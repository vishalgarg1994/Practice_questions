{
 "cells": [
  {
   "cell_type": "code",
   "execution_count": 24,
   "metadata": {},
   "outputs": [
    {
     "name": "stdout",
     "output_type": "stream",
     "text": [
      "133993\n"
     ]
    }
   ],
   "source": [
    "def add(s1,s2):\n",
    "    s3 = str()  #Output String, You can use list as well nd at last join all values\n",
    "    if len(s2) > len(s1):   \n",
    "        s1,s2=s2,s1      # S1 will always be greater that s2\n",
    "    diff = len(s1) - len(s2) # It will help in getting last element of s1 when s2 is smaller than s1\n",
    "    sum1 = 0  # For sum of 2 variables\n",
    "    carry = 0 # Will help i\n",
    "    num = 0  # Number without carry to place in the output string\n",
    "    for i in range(len(s2)-1,-1,-1): # Reverse Loop through s2\n",
    "        sum1 = int(s1[i+diff]) + int(s2[i]) + carry\n",
    "        num = sum1 %10\n",
    "        carry = sum1 //10\n",
    "        s3 = str(num) + s3\n",
    "        #print(f\"sum = {sum1}  num = {num}  carry= {carry} \")\n",
    "    for i in range(diff-1,-1,-1):  # Reverse Loop through remaining element of s1, if any\n",
    "        sum1 = int(s1[i]) + carry\n",
    "        if sum1 > 9:    # The only case where sum1 is greater than 9 is 10 only so num = 0 and carry =1 \n",
    "            s3 = str(0) + s3\n",
    "            carry = 1\n",
    "        else:  # If sum < 9 means we don't need to iterate anymore just place the remaining string as is and return it\n",
    "            s3 = s1[0:i]+str(sum1)+s3\n",
    "            return s3\n",
    "    if carry > 0: # So after all the additions if there is any carry left,that needs to be added at first place\n",
    "        s3 = str(carry) + s3\n",
    "    return s3\n",
    "\n",
    "s1 = \"9999\"\n",
    "s2 = \"123994\"\n",
    "print(add(s1,s2))"
   ]
  },
  {
   "cell_type": "code",
   "execution_count": 5,
   "metadata": {},
   "outputs": [
    {
     "name": "stdout",
     "output_type": "stream",
     "text": [
      "start= 1  end = 1  length = 16  string = accaaabbbacdddca\n",
      "start= 1  end = 2  length = 16  string = accaaabbbacdddca\n",
      "start= 0  end = 0  length = 14  string = aaaabbbacdddca\n",
      "start= 0  end = 1  length = 14  string = aaaabbbacdddca\n",
      "start= 0  end = 2  length = 14  string = aaaabbbacdddca\n",
      "start= 0  end = 3  length = 14  string = aaaabbbacdddca\n",
      "start= 0  end = 0  length = 10  string = bbbacdddca\n",
      "start= 0  end = 1  length = 10  string = bbbacdddca\n",
      "start= 0  end = 2  length = 10  string = bbbacdddca\n",
      "start= 0  end = 0  length = 7  string = acdddca\n",
      "start= 1  end = 1  length = 7  string = acdddca\n",
      "start= 2  end = 2  length = 7  string = acdddca\n",
      "start= 2  end = 3  length = 7  string = acdddca\n",
      "start= 2  end = 4  length = 7  string = acdddca\n",
      "start= 1  end = 1  length = 4  string = acca\n",
      "start= 1  end = 2  length = 4  string = acca\n",
      "start= 0  end = 0  length = 2  string = aa\n",
      "start= 0  end = 1  length = 2  string = aa\n",
      "\n"
     ]
    }
   ],
   "source": [
    "def dup(s):\n",
    "    start=0\n",
    "    end=0\n",
    "    same = False\n",
    "    length = len(s)\n",
    "    while(end<length-1):\n",
    "        if s[end]==s[end+1]:\n",
    "            end+=1\n",
    "            same = True\n",
    "        else:\n",
    "            if same == True:\n",
    "                s = s[0:start]+s[end+1:]\n",
    "                start-=1\n",
    "                end -= length - len(s)\n",
    "                same = False\n",
    "                length = len(s)\n",
    "                if start < 0:\n",
    "                    start = 0\n",
    "                    end = 0\n",
    "            else:\n",
    "                start+=1\n",
    "                end+=1\n",
    "        print(f\"start= {start}  end = {end}  length = {length}  string = {s}\")\n",
    "    if same == True:\n",
    "        s = s[0:start]\n",
    "    return s\n",
    "                \n",
    "s= 'accaaabbbacdddca'\n",
    "print(dup(s))"
   ]
  },
  {
   "cell_type": "code",
   "execution_count": 1,
   "metadata": {},
   "outputs": [
    {
     "name": "stdout",
     "output_type": "stream",
     "text": [
      "\n"
     ]
    }
   ],
   "source": [
    "print(\"Hello\"[0:0])"
   ]
  },
  {
   "cell_type": "code",
   "execution_count": 29,
   "metadata": {},
   "outputs": [
    {
     "name": "stdout",
     "output_type": "stream",
     "text": [
      "29\n",
      "24\n",
      "27\n",
      "5\n",
      "3\n"
     ]
    }
   ],
   "source": [
    "# Roman to int\n",
    "def romantoint(s):\n",
    "    num=0\n",
    "    i=0\n",
    "    while(i<len(s)-1):\n",
    "        num += 10 if s[i]=='X' else 5 if s[i] == 'V' else 1 if s[i+1]=='I' else -1\n",
    "        i+=1\n",
    "    num += 10 if s[i]=='X' else 5 if s[i] == 'V' else 1\n",
    "    return num\n",
    "print(romantoint(\"XXIX\"))\n",
    "print(romantoint(\"XXIV\"))\n",
    "print(romantoint(\"XXVII\"))\n",
    "print(romantoint(\"V\"))\n",
    "print(romantoint(\"III\"))"
   ]
  },
  {
   "cell_type": "code",
   "execution_count": null,
   "metadata": {},
   "outputs": [],
   "source": []
  },
  {
   "cell_type": "code",
   "execution_count": null,
   "metadata": {},
   "outputs": [],
   "source": []
  }
 ],
 "metadata": {
  "kernelspec": {
   "display_name": "Python 3",
   "language": "python",
   "name": "python3"
  },
  "language_info": {
   "codemirror_mode": {
    "name": "ipython",
    "version": 3
   },
   "file_extension": ".py",
   "mimetype": "text/x-python",
   "name": "python",
   "nbconvert_exporter": "python",
   "pygments_lexer": "ipython3",
   "version": "3.7.6"
  }
 },
 "nbformat": 4,
 "nbformat_minor": 4
}
