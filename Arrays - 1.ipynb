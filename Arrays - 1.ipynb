{
 "cells": [
  {
   "cell_type": "code",
   "execution_count": 13,
   "metadata": {},
   "outputs": [
    {
     "name": "stdout",
     "output_type": "stream",
     "text": [
      "True\n",
      "True\n"
     ]
    }
   ],
   "source": [
    "# Subarray with given sum\n",
    "# We will be given an array and a sum,we need to find out whether that sum could be posible with any subarray\n",
    "def f(arr,total):\n",
    "    start = 0\n",
    "    tot = 0\n",
    "    for i in range(0,len(arr)):\n",
    "        #print(\"start \",tot)\n",
    "        if tot == total:\n",
    "            return True\n",
    "        elif tot < total:\n",
    "            tot+=arr[i]\n",
    "        else:\n",
    "            while tot>total:\n",
    "                #print(\"Hello\")\n",
    "                tot-=arr[start]\n",
    "                start+=1\n",
    "            if tot==total:\n",
    "                return True\n",
    "        #print(\"end \",tot)\n",
    "    return False\n",
    "arr = [1,2,3,7,5]\n",
    "sum1 = 12\n",
    "print(f(arr,sum1))\n",
    "arr = [1,2,3,4,5,6,7,8,9,10]\n",
    "sum1 = 14\n",
    "print(f(arr,sum1))"
   ]
  },
  {
   "cell_type": "code",
   "execution_count": 22,
   "metadata": {},
   "outputs": [
    {
     "name": "stdout",
     "output_type": "stream",
     "text": [
      "2\n",
      "2\n"
     ]
    }
   ],
   "source": [
    "# Missing number of an array\n",
    "# We will be having an array of length N-1 where one no. will be missing from 1-N we need tofind that\n",
    "def f(arr,n):\n",
    "    total = (n*(n+1))/2\n",
    "    arrsum = 0\n",
    "    for i in arr:\n",
    "        arrsum+=i\n",
    "    return int(total-arrsum)\n",
    "# XOR has certain properties\n",
    "#Assume a1 ^ a2 ^ a3 ^ …^ an = a and a1 ^ a2 ^ a3 ^ …^ an-1 = b\n",
    "#Then a ^ b = an\n",
    "\n",
    "def f1(arr,n): # using Xor gate\n",
    "    x1 = 1\n",
    "    for i in range(2,n+1):\n",
    "        x1^=i\n",
    "    x2 = arr[0]\n",
    "    for i in range(1,n-1):\n",
    "        x2^=arr[i]\n",
    "    return int(x1^x2)\n",
    "arr = [1,4,3,5] \n",
    "n = 5\n",
    "print(f(arr,n))\n",
    "print(f1(arr,n))"
   ]
  },
  {
   "cell_type": "code",
   "execution_count": 32,
   "metadata": {},
   "outputs": [
    {
     "name": "stdout",
     "output_type": "stream",
     "text": [
      "25\n",
      "20\n",
      "[1, 5, 9, 10, 15, 20] [2, 3, 13, 25]\n",
      "13\n",
      "20\n",
      "1 13\n",
      "5 13\n",
      "9 13\n",
      "10 13\n",
      "15 13\n",
      "Hello\n",
      "[1, 5, 9, 10, 13, 15] [2, 3, 20, 25]\n",
      "3\n",
      "15\n",
      "1 3\n",
      "5 3\n",
      "Hello\n",
      "[1, 3, 5, 9, 10, 13] [2, 15, 20, 25]\n",
      "2\n",
      "13\n",
      "1 2\n",
      "3 2\n",
      "Hello\n",
      "[1, 2, 3, 5, 9, 10] [13, 15, 20, 25]\n"
     ]
    },
    {
     "data": {
      "text/plain": [
       "([1, 2, 3, 5, 9, 10], [13, 15, 20, 25])"
      ]
     },
     "execution_count": 32,
     "metadata": {},
     "output_type": "execute_result"
    }
   ],
   "source": [
    "#Given two sorted arrays arr1[] and arr2[] in non-decreasing order with size n and m. The task is to merge the two sorted arrays\n",
    "into one sorted array (in non-decreasing order).\n",
    "# Do not use extraspace\n",
    "def f(arr1,arr2):\n",
    "    arr3=[]\n",
    "    last_index = len(arr1) - 1\n",
    "    for i in range(len(arr2)-1,-1,-1):\n",
    "        if arr2[i] < arr1[last_index]:\n",
    "            temp = arr2[i]\n",
    "            arr2[i] = arr1.pop()\n",
    "            for i in range(0,len(arr1)):\n",
    "                if arr1[i] > temp:\n",
    "                    print(\"Hello\")\n",
    "                    arr1.insert(i,temp)\n",
    "                    break\n",
    "            if len(arr1) == last_index:\n",
    "                arr1.append(temp)\n",
    "    return arr1,arr2\n",
    "arr1 = [1, 5, 9, 10, 15, 20]\n",
    "arr2 = [2, 3, 13, 25]\n",
    "f(arr1,arr2)"
   ]
  },
  {
   "cell_type": "code",
   "execution_count": null,
   "metadata": {},
   "outputs": [],
   "source": []
  },
  {
   "cell_type": "code",
   "execution_count": null,
   "metadata": {},
   "outputs": [],
   "source": []
  },
  {
   "cell_type": "code",
   "execution_count": null,
   "metadata": {},
   "outputs": [],
   "source": []
  }
 ],
 "metadata": {
  "kernelspec": {
   "display_name": "Python 3",
   "language": "python",
   "name": "python3"
  },
  "language_info": {
   "codemirror_mode": {
    "name": "ipython",
    "version": 3
   },
   "file_extension": ".py",
   "mimetype": "text/x-python",
   "name": "python",
   "nbconvert_exporter": "python",
   "pygments_lexer": "ipython3",
   "version": "3.7.6"
  }
 },
 "nbformat": 4,
 "nbformat_minor": 4
}
