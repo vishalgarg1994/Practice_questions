{
 "cells": [
  {
   "cell_type": "code",
   "execution_count": 45,
   "metadata": {},
   "outputs": [
    {
     "name": "stdout",
     "output_type": "stream",
     "text": [
      "[1, 2, 3, 4, 5, 6]\n",
      "[2, 1, 4, 3, 6, 5]\n",
      "[4, 1, 2, 5, 6, 3]\n",
      "[5, 2, 1, 4, 3, 6]\n",
      "[3, 2, 1, 5, 4]\n"
     ]
    }
   ],
   "source": [
    "# Subarray string reversal\n",
    "def revsub(arr,sub):\n",
    "    if sub == 1:\n",
    "        return arr\n",
    "    iter = len(arr)//sub\n",
    "    if len(arr)%sub!=0:\n",
    "        iter += 1\n",
    "    for i in range(0,iter):\n",
    "        start = i*sub\n",
    "        end = start+sub-1\n",
    "        if end > len(arr) - 1:\n",
    "            end = len(arr) - 1\n",
    "        #print(f\"start = {start} end = {end}\")\n",
    "        while(start<end):\n",
    "            arr[start],arr[end] = arr[end],arr[start]\n",
    "            start+=1\n",
    "            end-=1\n",
    "    return arr\n",
    "arr = [1,2,3,4,5,6]\n",
    "print(revsub(arr,1))\n",
    "print(revsub(arr,2))\n",
    "print(revsub(arr,3))\n",
    "print(revsub(arr,4))\n",
    "arr = [1,2,3,4,5]\n",
    "print(revsub(arr,3))"
   ]
  },
  {
   "cell_type": "code",
   "execution_count": 54,
   "metadata": {},
   "outputs": [
    {
     "name": "stdout",
     "output_type": "stream",
     "text": [
      "start = 0, end = 3\n",
      "start = 4, end = 6\n",
      "0\n",
      "start = 0, end = 3\n",
      "0\n",
      "0\n",
      "start = 1, end = 4\n",
      "start = 5, end = 9\n",
      "0\n"
     ]
    }
   ],
   "source": [
    "# Stock Buy and sell\n",
    "def stoc(arr): \n",
    "    start = 0\n",
    "    end  = 0\n",
    "    num = 0\n",
    "    for i in range(0,len(arr)-1):\n",
    "        if arr[i] < arr[i+1]:\n",
    "            end+=1\n",
    "        else:\n",
    "            if end > start:\n",
    "                print(f\"start = {start}, end = {end}\")\n",
    "                start = i+1\n",
    "                end = i+1\n",
    "            else:\n",
    "                start+=1\n",
    "                end+=1\n",
    "    if end > start:\n",
    "        print(f\"start = {start}, end = {end}\")\n",
    "    return num\n",
    "arr = [100, 180, 260, 310, 40, 535, 695]\n",
    "print(stoc(arr))\n",
    "arr = [100, 180, 260, 310, 40, 30, 20]\n",
    "print(stoc(arr))\n",
    "arr =[100, 50, 30, 20]\n",
    "print(stoc(arr))\n",
    "arr = [23, 13, 25, 29, 33, 19, 34, 45, 65, 67]\n",
    "print(stoc(arr))"
   ]
  },
  {
   "cell_type": "code",
   "execution_count": null,
   "metadata": {},
   "outputs": [],
   "source": []
  }
 ],
 "metadata": {
  "kernelspec": {
   "display_name": "Python 3",
   "language": "python",
   "name": "python3"
  },
  "language_info": {
   "codemirror_mode": {
    "name": "ipython",
    "version": 3
   },
   "file_extension": ".py",
   "mimetype": "text/x-python",
   "name": "python",
   "nbconvert_exporter": "python",
   "pygments_lexer": "ipython3",
   "version": "3.7.6"
  }
 },
 "nbformat": 4,
 "nbformat_minor": 4
}
