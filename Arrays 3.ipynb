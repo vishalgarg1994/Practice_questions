{
 "cells": [
  {
   "cell_type": "code",
   "execution_count": 11,
   "metadata": {},
   "outputs": [
    {
     "name": "stdout",
     "output_type": "stream",
     "text": [
      "10\n",
      "0\n",
      "22\n"
     ]
    }
   ],
   "source": [
    "# Trapping rain water\n",
    "# Other solution could be saving the left and right(in 2 different list) for every ix in an array\n",
    "def f(arr):\n",
    "    units = 0\n",
    "    left = arr[0]  # Get the leftest value\n",
    "    right = 0\n",
    "    right_ix = 0\n",
    "    for i in range(2,len(arr)):\n",
    "        if arr[i] > right:\n",
    "            right = arr[i]\n",
    "            right_ix = i\n",
    "    for i in range(1,len(arr)-1): # As leftmost and rightmost can't store any water\n",
    "        if i >= right_ix :  # If  right current iteration is greater than equalto right ix then update right ix correctly\n",
    "            right = 0\n",
    "            for j in range(i+1,len(arr)):  # FInd new Right IX\n",
    "                if arr[j] > right:\n",
    "                    right = arr[j]\n",
    "                    right_ix = i\n",
    "        if min(left,right) > arr[i]:  # If left and right IX are correctly defined\n",
    "            #print(left,right,right_ix)\n",
    "            units+= min(left,right) - arr[i]\n",
    "            #print(units)\n",
    "        if arr[i] > left:  # Updating Left value\n",
    "            left = arr[i]\n",
    "    return units\n",
    "arr = [7,4,0,9]\n",
    "print(f(arr))\n",
    "arr = [6,9,9]\n",
    "print(f(arr))\n",
    "arr = [6,0,4,0,5,0,6,3,4]\n",
    "print(f(arr))"
   ]
  },
  {
   "cell_type": "code",
   "execution_count": 14,
   "metadata": {},
   "outputs": [
    {
     "name": "stdout",
     "output_type": "stream",
     "text": [
      "7\n"
     ]
    }
   ],
   "source": [
    "# Find Kth smallest elemenmt\n",
    "\"\"\"\n",
    "sol1 = Sort and get k-1 index\n",
    "sol2 = nth smallest is (size-nth) Highest so search from where it is least and in every iteration get the next smallest/greatest value. Also you can pop \n",
    "       The highest/smallest value everytime\n",
    "sol3 = sorting only till when it is required\n",
    "Also please check if duplicacy is there or not..if use..set could be used to store\n",
    "\"\"\""
   ]
  },
  {
   "cell_type": "code",
   "execution_count": 12,
   "metadata": {},
   "outputs": [
    {
     "name": "stdout",
     "output_type": "stream",
     "text": [
      "[2, 5, 17]\n",
      "[0, 4]\n",
      "[3, 7, 7]\n"
     ]
    }
   ],
   "source": [
    "\"\"\"\n",
    "Given an array of positive integers. Your task is to find the leaders in the array.\n",
    "Note: An element of array is leader if it is greater than or equal to all the elements to its right side. \n",
    "Also, the rightmost element is always a leader. \n",
    "\"\"\"\n",
    "def f(arr):\n",
    "    leader = []\n",
    "    max_so_far = arr[len(arr)-1]\n",
    "    for i in range(len(arr)-1,-1,-1):\n",
    "        if arr[i] >= max_so_far:\n",
    "            leader.append(arr[i])\n",
    "        if arr[i] > max_so_far:\n",
    "            max_so_far = arr[i]\n",
    "    return leader\n",
    "arr = [16,17, 4, 3, 5, 2]\n",
    "print(f(arr))\n",
    "arr = [1, 2, 3, 4, 0]\n",
    "print(f(arr))\n",
    "arr = [7, 4, 5, 7, 3]\n",
    "print(f(arr))"
   ]
  },
  {
   "cell_type": "code",
   "execution_count": 21,
   "metadata": {},
   "outputs": [
    {
     "name": "stdout",
     "output_type": "stream",
     "text": [
      "First equilibrium index is  1\n"
     ]
    }
   ],
   "source": [
    "def equilibrium(arr): \n",
    "  \n",
    "    # finding the sum of whole array \n",
    "    total_sum = sum(arr) \n",
    "    leftsum = 0\n",
    "    for i, num in enumerate(arr): \n",
    "          \n",
    "        # total_sum is now right sum \n",
    "        # for index i \n",
    "        total_sum -= num \n",
    "          \n",
    "        if leftsum == total_sum: \n",
    "            return i \n",
    "        leftsum += num \n",
    "       \n",
    "      # If no equilibrium index found,  \n",
    "      # then return -1 \n",
    "    return -1\n",
    "      \n",
    "# Driver code \n",
    "arr = [0,2] \n",
    "print ('First equilibrium index is ', \n",
    "       equilibrium(arr)) "
   ]
  },
  {
   "cell_type": "code",
   "execution_count": null,
   "metadata": {},
   "outputs": [],
   "source": []
  }
 ],
 "metadata": {
  "kernelspec": {
   "display_name": "Python 3",
   "language": "python",
   "name": "python3"
  },
  "language_info": {
   "codemirror_mode": {
    "name": "ipython",
    "version": 3
   },
   "file_extension": ".py",
   "mimetype": "text/x-python",
   "name": "python",
   "nbconvert_exporter": "python",
   "pygments_lexer": "ipython3",
   "version": "3.7.6"
  }
 },
 "nbformat": 4,
 "nbformat_minor": 4
}
