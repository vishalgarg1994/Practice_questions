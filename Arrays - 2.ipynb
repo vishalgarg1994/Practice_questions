{
 "cells": [
  {
   "cell_type": "code",
   "execution_count": 3,
   "metadata": {},
   "outputs": [
    {
     "name": "stdout",
     "output_type": "stream",
     "text": [
      "[6, 1, 5, 2, 4, 3]\n",
      "[110, 10, 100, 20, 90, 30, 80, 40, 70, 50, 60]\n"
     ]
    }
   ],
   "source": [
    "\"\"\"\n",
    "Given a sorted array of positive integers. Your task is to rearrange  the array elements alternatively i.e first element \n",
    "should be max value, second should be min value, third should be second max, fourth should be second min and so on...\n",
    "\"\"\"\n",
    "def f(arr):\n",
    "    length = len(arr)\n",
    "    if length == 1:\n",
    "        pass\n",
    "    elif length ==2:\n",
    "        arr[0],arr[1]=arr[1],arr[0]\n",
    "    else:\n",
    "        for i in range(0,length-1,2):\n",
    "            temp = arr.pop()\n",
    "            arr.insert(i,temp)\n",
    "    return arr\n",
    "arr = [1,2,3,4,5,6]\n",
    "print(f(arr))\n",
    "arr = [10,20,30,40,50,60,70,80,90,100,110]\n",
    "print(f(arr))"
   ]
  },
  {
   "cell_type": "code",
   "execution_count": 6,
   "metadata": {},
   "outputs": [
    {
     "name": "stdout",
     "output_type": "stream",
     "text": [
      "[43, 9, 38, 18, 33, 27]\n",
      "[6, 1, 5, 2, 4, 3]\n",
      "[12220, 1130, 11130, 2260, 10040, 3390, 8950, 4520, 7860, 5650, 6770]\n",
      "[110, 10, 100, 20, 90, 30, 80, 40, 70, 50, 60]\n"
     ]
    }
   ],
   "source": [
    "# better solution to above question\n",
    "# Here what we are doing is storing 2 elements at a single place\n",
    "# For every element if we do a modulo... we will get actual_value there and if we do the division we get the element that we wanted to save \n",
    "def f(arr):\n",
    "    min_index = 0\n",
    "    max_index = len(arr)-1\n",
    "    max_element = arr[max_index]+1\n",
    "    for i in range(0,len(arr)):\n",
    "        if i%2==0: # We need to store max_value\n",
    "            arr[i] += (arr[max_index]%max_element)*max_element # can be interpreted as max actual_value*max_value+min actual_value\n",
    "            max_index-=1\n",
    "        else: # We need to store min value\n",
    "            arr[i] += (arr[min_index]%max_element)*max_element\n",
    "            min_index+=1\n",
    "    print(arr)\n",
    "    for i in range(0,len(arr)):\n",
    "        arr[i] = arr[i] // max_element\n",
    "    return arr\n",
    "arr = [1,2,3,4,5,6]\n",
    "print(f(arr))\n",
    "arr = [10,20,30,40,50,60,70,80,90,100,110]\n",
    "print(f(arr))\n"
   ]
  },
  {
   "cell_type": "code",
   "execution_count": 21,
   "metadata": {},
   "outputs": [
    {
     "name": "stdout",
     "output_type": "stream",
     "text": [
      "6\n",
      "-3\n",
      "-1\n"
     ]
    }
   ],
   "source": [
    "# Given an array arr of N integers. Find the contiguous sub-array with maximum sum.\n",
    "def f(arr):\n",
    "    max_so_far = -999 # a large -ve number\n",
    "    max_ending_here = 0\n",
    "    for i in range(0,len(arr)):\n",
    "        max_ending_here+=arr[i]\n",
    "        if max_so_far < max_ending_here:\n",
    "            max_so_far = max_ending_here\n",
    "        if max_ending_here<0:   # For handling -ve values cases\n",
    "            max_ending_here = 0\n",
    "    return max_so_far\n",
    "arr = [1,2,3,-5,0]\n",
    "print(f(arr))\n",
    "arr =  [-13, -3, -25, -20, -3, -16, -23, -12, -5, -22, -15, -4, -7]\n",
    "print(f(arr))\n",
    "arr = [-1,-2,-3,-4]\n",
    "print(f(arr))"
   ]
  },
  {
   "cell_type": "code",
   "execution_count": 13,
   "metadata": {},
   "outputs": [],
   "source": [
    "# Given an array of distinct integers. The task is to count all the triplets such that sum of two elements equals the third element"
   ]
  },
  {
   "cell_type": "code",
   "execution_count": null,
   "metadata": {},
   "outputs": [],
   "source": []
  }
 ],
 "metadata": {
  "kernelspec": {
   "display_name": "Python 3",
   "language": "python",
   "name": "python3"
  },
  "language_info": {
   "codemirror_mode": {
    "name": "ipython",
    "version": 3
   },
   "file_extension": ".py",
   "mimetype": "text/x-python",
   "name": "python",
   "nbconvert_exporter": "python",
   "pygments_lexer": "ipython3",
   "version": "3.7.6"
  }
 },
 "nbformat": 4,
 "nbformat_minor": 4
}
